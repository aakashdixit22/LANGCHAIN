{
 "cells": [
  {
   "cell_type": "code",
   "execution_count": 1,
   "metadata": {},
   "outputs": [],
   "source": [
    "##CHROMA is an a I native open source vector database focused on developer productivity and happiness chrome is licensed under Apache 2.0\n"
   ]
  },
  {
   "cell_type": "code",
   "execution_count": 2,
   "metadata": {},
   "outputs": [],
   "source": [
    "#BUILDING A SAMPLE VECTORDB\n",
    "from langchain_chroma import Chroma\n"
   ]
  },
  {
   "cell_type": "code",
   "execution_count": 3,
   "metadata": {},
   "outputs": [],
   "source": [
    "from langchain_community.document_loaders import TextLoader\n",
    "from langchain_community.embeddings import OllamaEmbeddings\n",
    "from langchain_text_splitters import RecursiveCharacterTextSplitter\n"
   ]
  },
  {
   "cell_type": "code",
   "execution_count": 5,
   "metadata": {},
   "outputs": [
    {
     "data": {
      "text/plain": [
       "[Document(metadata={'source': 'speech.txt'}, page_content='Good morning, everyone.\\n\\nItâ€™s a pleasure to stand here before you today. We gather not only to share a moment but to create memories that will last a lifetime. Each one of us brings something unique to this spaceâ€”a story, a strength, a spark. Together, we have the power to inspire, to collaborate, and to achieve greatness.\\n\\nLet this be a reminder that no challenge is insurmountable when we work together. Letâ€™s embrace the opportunities ahead with open hearts and determined minds. Remember, growth comes from stepping out of our comfort zones.\\n\\nThank you for being here, and letâ€™s make this day count\\n\\nToday is not just an ordinary dayâ€”itâ€™s an opportunity. An opportunity to connect, to learn, and to grow. Challenges may come our way, but it is through challenges that we discover our true strength. Success is not defined by the absence of obstacles but by the courage we show in overcoming them.\\n\\nLet us remember that no dream is too big and no goal is out of reach when we believe in ourselves and support one another. As we move forward, letâ€™s focus on collaboration, compassion, and resilience. Together, we can achieve greatness.')]"
      ]
     },
     "execution_count": 5,
     "metadata": {},
     "output_type": "execute_result"
    }
   ],
   "source": [
    "loader=TextLoader('speech.txt')\n",
    "data=loader.load()\n",
    "data"
   ]
  },
  {
   "cell_type": "code",
   "execution_count": 6,
   "metadata": {},
   "outputs": [
    {
     "data": {
      "text/plain": [
       "[Document(metadata={'source': 'speech.txt'}, page_content='Good morning, everyone.\\n\\nItâ€™s a pleasure to stand here before you today. We gather not only to share a moment but to create memories that will last a lifetime. Each one of us brings something unique to this spaceâ€”a story, a strength, a spark. Together, we have the power to inspire, to collaborate, and to achieve greatness.'),\n",
       " Document(metadata={'source': 'speech.txt'}, page_content='Let this be a reminder that no challenge is insurmountable when we work together. Letâ€™s embrace the opportunities ahead with open hearts and determined minds. Remember, growth comes from stepping out of our comfort zones.\\n\\nThank you for being here, and letâ€™s make this day count'),\n",
       " Document(metadata={'source': 'speech.txt'}, page_content='Today is not just an ordinary dayâ€”itâ€™s an opportunity. An opportunity to connect, to learn, and to grow. Challenges may come our way, but it is through challenges that we discover our true strength. Success is not defined by the absence of obstacles but by the courage we show in overcoming them.'),\n",
       " Document(metadata={'source': 'speech.txt'}, page_content='Let us remember that no dream is too big and no goal is out of reach when we believe in ourselves and support one another. As we move forward, letâ€™s focus on collaboration, compassion, and resilience. Together, we can achieve greatness.')]"
      ]
     },
     "execution_count": 6,
     "metadata": {},
     "output_type": "execute_result"
    }
   ],
   "source": [
    "#split\n",
    "text_splitter=RecursiveCharacterTextSplitter(chunk_size=500,chunk_overlap=0)\n",
    "splits=text_splitter.split_documents(data)\n",
    "splits"
   ]
  },
  {
   "cell_type": "code",
   "execution_count": 8,
   "metadata": {},
   "outputs": [
    {
     "data": {
      "text/plain": [
       "<langchain_chroma.vectorstores.Chroma at 0x1d36454f0d0>"
      ]
     },
     "execution_count": 8,
     "metadata": {},
     "output_type": "execute_result"
    }
   ],
   "source": [
    "embedding=OllamaEmbeddings(model='mxbai-embed-large')\n",
    "#store\n",
    "vectordb=Chroma.from_documents(documents=splits,embedding=embedding)\n",
    "vectordb"
   ]
  },
  {
   "cell_type": "code",
   "execution_count": 9,
   "metadata": {},
   "outputs": [
    {
     "data": {
      "text/plain": [
       "[Document(id='f25719a8-4192-4a47-8894-0d7be513edcf', metadata={'source': 'speech.txt'}, page_content='Good morning, everyone.\\n\\nItâ€™s a pleasure to stand here before you today. We gather not only to share a moment but to create memories that will last a lifetime. Each one of us brings something unique to this spaceâ€”a story, a strength, a spark. Together, we have the power to inspire, to collaborate, and to achieve greatness.'),\n",
       " Document(id='3a4b1850-a6d8-4f20-8950-907847cd546a', metadata={'source': 'speech.txt'}, page_content='Today is not just an ordinary dayâ€”itâ€™s an opportunity. An opportunity to connect, to learn, and to grow. Challenges may come our way, but it is through challenges that we discover our true strength. Success is not defined by the absence of obstacles but by the courage we show in overcoming them.'),\n",
       " Document(id='e32e303b-195c-458a-ad5f-8905a616b384', metadata={'source': 'speech.txt'}, page_content='Let this be a reminder that no challenge is insurmountable when we work together. Letâ€™s embrace the opportunities ahead with open hearts and determined minds. Remember, growth comes from stepping out of our comfort zones.\\n\\nThank you for being here, and letâ€™s make this day count'),\n",
       " Document(id='3f56c898-381b-4aa3-89a5-2da11872bdc4', metadata={'source': 'speech.txt'}, page_content='Let us remember that no dream is too big and no goal is out of reach when we believe in ourselves and support one another. As we move forward, letâ€™s focus on collaboration, compassion, and resilience. Together, we can achieve greatness.')]"
      ]
     },
     "execution_count": 9,
     "metadata": {},
     "output_type": "execute_result"
    }
   ],
   "source": [
    "#query this db(We use same technique which we use in faiss)\n",
    "\n",
    "query='What unique qualities or strengths do you bring to this space, and how can they contribute to inspiring and collaborating with others?'\n",
    "docs=vectordb.similarity_search(query)\n",
    "docs"
   ]
  },
  {
   "cell_type": "code",
   "execution_count": 10,
   "metadata": {},
   "outputs": [
    {
     "data": {
      "text/plain": [
       "'Good morning, everyone.\\n\\nItâ€™s a pleasure to stand here before you today. We gather not only to share a moment but to create memories that will last a lifetime. Each one of us brings something unique to this spaceâ€”a story, a strength, a spark. Together, we have the power to inspire, to collaborate, and to achieve greatness.'"
      ]
     },
     "execution_count": 10,
     "metadata": {},
     "output_type": "execute_result"
    }
   ],
   "source": [
    "docs[0].page_content"
   ]
  },
  {
   "cell_type": "code",
   "execution_count": 11,
   "metadata": {},
   "outputs": [],
   "source": [
    "#saving to the disk\n",
    "vectordb=Chroma.from_documents(documents=splits,embedding=embedding,persist_directory=\"./chroma_db\")"
   ]
  },
  {
   "cell_type": "code",
   "execution_count": 13,
   "metadata": {},
   "outputs": [
    {
     "name": "stdout",
     "output_type": "stream",
     "text": [
      "Good morning, everyone.\n",
      "\n",
      "Itâ€™s a pleasure to stand here before you today. We gather not only to share a moment but to create memories that will last a lifetime. Each one of us brings something unique to this spaceâ€”a story, a strength, a spark. Together, we have the power to inspire, to collaborate, and to achieve greatness.\n"
     ]
    }
   ],
   "source": [
    "#to call this disk\n",
    "db2=Chroma(persist_directory=\"./chroma_db\",embedding_function=embedding)\n",
    "docs=db2.similarity_search(query)\n",
    "print(docs[0].page_content)"
   ]
  },
  {
   "cell_type": "code",
   "execution_count": 14,
   "metadata": {},
   "outputs": [
    {
     "data": {
      "text/plain": [
       "[Document(id='83a642ba-96e3-46b9-a20c-156d0328a16f', metadata={'source': 'speech.txt'}, page_content='Good morning, everyone.\\n\\nItâ€™s a pleasure to stand here before you today. We gather not only to share a moment but to create memories that will last a lifetime. Each one of us brings something unique to this spaceâ€”a story, a strength, a spark. Together, we have the power to inspire, to collaborate, and to achieve greatness.'),\n",
       " Document(id='c6eb3cd7-8d2e-4c26-a32a-e49f64f709b1', metadata={'source': 'speech.txt'}, page_content='Today is not just an ordinary dayâ€”itâ€™s an opportunity. An opportunity to connect, to learn, and to grow. Challenges may come our way, but it is through challenges that we discover our true strength. Success is not defined by the absence of obstacles but by the courage we show in overcoming them.'),\n",
       " Document(id='d9649783-cbc2-4d41-9cfe-c1919e3458af', metadata={'source': 'speech.txt'}, page_content='Let this be a reminder that no challenge is insurmountable when we work together. Letâ€™s embrace the opportunities ahead with open hearts and determined minds. Remember, growth comes from stepping out of our comfort zones.\\n\\nThank you for being here, and letâ€™s make this day count'),\n",
       " Document(id='e037798f-3efd-4345-85b2-50839004d5d5', metadata={'source': 'speech.txt'}, page_content='Let us remember that no dream is too big and no goal is out of reach when we believe in ourselves and support one another. As we move forward, letâ€™s focus on collaboration, compassion, and resilience. Together, we can achieve greatness.')]"
      ]
     },
     "execution_count": 14,
     "metadata": {},
     "output_type": "execute_result"
    }
   ],
   "source": [
    "#retriever option\n",
    "retriever=vectordb.as_retriever()\n",
    "retriever.invoke(query)"
   ]
  },
  {
   "cell_type": "code",
   "execution_count": 15,
   "metadata": {},
   "outputs": [
    {
     "data": {
      "text/plain": [
       "'Good morning, everyone.\\n\\nItâ€™s a pleasure to stand here before you today. We gather not only to share a moment but to create memories that will last a lifetime. Each one of us brings something unique to this spaceâ€”a story, a strength, a spark. Together, we have the power to inspire, to collaborate, and to achieve greatness.'"
      ]
     },
     "execution_count": 15,
     "metadata": {},
     "output_type": "execute_result"
    }
   ],
   "source": [
    "retriever.invoke(query)[0].page_content"
   ]
  },
  {
   "cell_type": "code",
   "execution_count": null,
   "metadata": {},
   "outputs": [],
   "source": []
  }
 ],
 "metadata": {
  "kernelspec": {
   "display_name": "venv",
   "language": "python",
   "name": "python3"
  },
  "language_info": {
   "codemirror_mode": {
    "name": "ipython",
    "version": 3
   },
   "file_extension": ".py",
   "mimetype": "text/x-python",
   "name": "python",
   "nbconvert_exporter": "python",
   "pygments_lexer": "ipython3",
   "version": "3.11.3"
  }
 },
 "nbformat": 4,
 "nbformat_minor": 2
}
