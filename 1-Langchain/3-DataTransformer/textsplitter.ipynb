{
 "cells": [
  {
   "cell_type": "code",
   "execution_count": 7,
   "metadata": {},
   "outputs": [
    {
     "data": {
      "text/plain": [
       "[Document(metadata={'source': 'Sample_PDF.pdf', 'page': 0}, page_content=\"Sample PDF File\\nThis is a sample PDF document created using Python's FPDF library. It demonstrates the ability to\\ngenerate PDFs dynamically for various purposes, including reports, invoices, or presentations. The\\nFPDF library is lightweight, easy to use, and supports features such as text formatting, images, and\\ntables.\\nYou can customize the layout, font styles, and page sizes as needed. This flexibility makes it a\\npopular choice for developers looking to integrate PDF generation into their applications.\\nThank you for viewing this sample!\")]"
      ]
     },
     "execution_count": 7,
     "metadata": {},
     "output_type": "execute_result"
    }
   ],
   "source": [
    "#reading a pdf file \n",
    "from langchain_community.document_loaders import PyPDFLoader\n",
    "loader=PyPDFLoader(\"Sample_PDF.pdf\")\n",
    "docs=loader.load()\n",
    "docs\n"
   ]
  },
  {
   "cell_type": "code",
   "execution_count": 8,
   "metadata": {},
   "outputs": [
    {
     "data": {
      "text/plain": [
       "[Document(metadata={'source': 'Sample_PDF.pdf', 'page': 0}, page_content=\"Sample PDF File\\nThis is a sample PDF document created using Python's FPDF library. It demonstrates the ability to\\ngenerate PDFs dynamically for various purposes, including reports, invoices, or presentations. The\\nFPDF library is lightweight, easy to use, and supports features such as text formatting, images, and\\ntables.\\nYou can customize the layout, font styles, and page sizes as needed. This flexibility makes it a\"),\n",
       " Document(metadata={'source': 'Sample_PDF.pdf', 'page': 0}, page_content='popular choice for developers looking to integrate PDF generation into their applications.\\nThank you for viewing this sample!')]"
      ]
     },
     "execution_count": 8,
     "metadata": {},
     "output_type": "execute_result"
    }
   ],
   "source": [
    "##how to recursively split the text by characters \n",
    "from langchain_text_splitters import RecursiveCharacterTextSplitter\n",
    "splitter=RecursiveCharacterTextSplitter(chunk_size=500,chunk_overlap=50)\n",
    "final_docs=splitter.split_documents(docs)\n",
    "final_docs\n",
    "\n"
   ]
  },
  {
   "cell_type": "code",
   "execution_count": 9,
   "metadata": {},
   "outputs": [
    {
     "name": "stdout",
     "output_type": "stream",
     "text": [
      "page_content='Sample PDF File\n",
      "This is a sample PDF document created using Python's FPDF library. It demonstrates the ability to\n",
      "generate PDFs dynamically for various purposes, including reports, invoices, or presentations. The\n",
      "FPDF library is lightweight, easy to use, and supports features such as text formatting, images, and\n",
      "tables.\n",
      "You can customize the layout, font styles, and page sizes as needed. This flexibility makes it a' metadata={'source': 'Sample_PDF.pdf', 'page': 0}\n"
     ]
    }
   ],
   "source": [
    "print(final_docs[0])"
   ]
  },
  {
   "cell_type": "code",
   "execution_count": 10,
   "metadata": {},
   "outputs": [
    {
     "data": {
      "text/plain": [
       "<langchain_community.document_loaders.text.TextLoader at 0x1b4593a9fd0>"
      ]
     },
     "execution_count": 10,
     "metadata": {},
     "output_type": "execute_result"
    }
   ],
   "source": [
    "#Text Loader\n",
    "from langchain_community.document_loaders import TextLoader\n",
    "loader=TextLoader('speech.txt')\n",
    "loader"
   ]
  },
  {
   "cell_type": "code",
   "execution_count": 11,
   "metadata": {},
   "outputs": [
    {
     "data": {
      "text/plain": [
       "[Document(metadata={'source': 'speech.txt'}, page_content='Good morning, everyone.\\n\\nItâ€™s a pleasure to stand here before you today. We gather not only to share a moment but to create memories that will last a lifetime. Each one of us brings something unique to this spaceâ€”a story, a strength, a spark. Together, we have the power to inspire, to collaborate, and to achieve greatness.\\n\\nLet this be a reminder that no challenge is insurmountable when we work together. Letâ€™s embrace the opportunities ahead with open hearts and determined minds. Remember, growth comes from stepping out of our comfort zones.\\n\\nThank you for being here, and letâ€™s make this day count\\n\\nToday is not just an ordinary dayâ€”itâ€™s an opportunity. An opportunity to connect, to learn, and to grow. Challenges may come our way, but it is through challenges that we discover our true strength. Success is not defined by the absence of obstacles but by the courage we show in overcoming them.\\n\\nLet us remember that no dream is too big and no goal is out of reach when we believe in ourselves and support one another. As we move forward, letâ€™s focus on collaboration, compassion, and resilience. Together, we can achieve greatness.')]"
      ]
     },
     "execution_count": 11,
     "metadata": {},
     "output_type": "execute_result"
    }
   ],
   "source": [
    "loader.load()"
   ]
  },
  {
   "cell_type": "code",
   "execution_count": 13,
   "metadata": {},
   "outputs": [
    {
     "data": {
      "text/plain": [
       "[Document(metadata={}, page_content='Good morning, everyone.\\n\\nItâ€™s a pleasure to stand here before you today. We gather not only to share a moment but to create memories that will last a lifetime. Each one of us brings something unique to this spaceâ€”a story, a strength, a spark. Together, we have the power to inspire, to collaborate, and to achieve greatness.'),\n",
       " Document(metadata={}, page_content='Let this be a reminder that no challenge is insurmountable when we work together. Letâ€™s embrace the opportunities ahead with open hearts and determined minds. Remember, growth comes from stepping out of our comfort zones.\\n\\nThank you for being here, and letâ€™s make this day count'),\n",
       " Document(metadata={}, page_content='Today is not just an ordinary dayâ€”itâ€™s an opportunity. An opportunity to connect, to learn, and to grow. Challenges may come our way, but it is through challenges that we discover our true strength. Success is not defined by the absence of obstacles but by the courage we show in overcoming them.'),\n",
       " Document(metadata={}, page_content='Let us remember that no dream is too big and no goal is out of reach when we believe in ourselves and support one another. As we move forward, letâ€™s focus on collaboration, compassion, and resilience. Together, we can achieve greatness.')]"
      ]
     },
     "execution_count": 13,
     "metadata": {},
     "output_type": "execute_result"
    }
   ],
   "source": [
    "with open(\"speech.txt\") as f:\n",
    "    text = f.read()\n",
    "splitter=RecursiveCharacterTextSplitter(chunk_size=500,chunk_overlap=50)#chunk size is the text is split it into the chuks of 500 words and chunk overlap here is that 50 words would be repeated again in the next chunk\n",
    "final_docs=splitter.create_documents([text])\n",
    "final_docs"
   ]
  },
  {
   "cell_type": "code",
   "execution_count": 14,
   "metadata": {},
   "outputs": [
    {
     "data": {
      "text/plain": [
       "langchain_core.documents.base.Document"
      ]
     },
     "execution_count": 14,
     "metadata": {},
     "output_type": "execute_result"
    }
   ],
   "source": [
    "type(final_docs[0])"
   ]
  },
  {
   "cell_type": "code",
   "execution_count": null,
   "metadata": {},
   "outputs": [],
   "source": []
  }
 ],
 "metadata": {
  "kernelspec": {
   "display_name": "venv",
   "language": "python",
   "name": "python3"
  },
  "language_info": {
   "codemirror_mode": {
    "name": "ipython",
    "version": 3
   },
   "file_extension": ".py",
   "mimetype": "text/x-python",
   "name": "python",
   "nbconvert_exporter": "python",
   "pygments_lexer": "ipython3",
   "version": "3.11.3"
  }
 },
 "nbformat": 4,
 "nbformat_minor": 2
}
